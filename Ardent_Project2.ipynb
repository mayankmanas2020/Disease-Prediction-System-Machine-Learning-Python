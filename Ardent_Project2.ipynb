{
  "cells": [
    {
      "cell_type": "markdown",
      "metadata": {
        "id": "view-in-github",
        "colab_type": "text"
      },
      "source": [
        "<a href=\"https://colab.research.google.com/github/mayankmanas2020/Disease-Prediction-System-Machine-Learning-Python/blob/main/Ardent_Project2.ipynb\" target=\"_parent\"><img src=\"https://colab.research.google.com/assets/colab-badge.svg\" alt=\"Open In Colab\"/></a>"
      ]
    },
    {
      "cell_type": "code",
      "execution_count": 1,
      "metadata": {
        "id": "aKMoBmABw26u"
      },
      "outputs": [],
      "source": [
        "! pip install -q streamlit"
      ]
    },
    {
      "cell_type": "code",
      "execution_count": 2,
      "metadata": {
        "id": "PFNhwew3xOwG"
      },
      "outputs": [],
      "source": [
        "! pip install -q streamlit_option_menu"
      ]
    },
    {
      "cell_type": "code",
      "execution_count": 3,
      "metadata": {
        "colab": {
          "base_uri": "https://localhost:8080/"
        },
        "id": "3smolW-gp6eB",
        "outputId": "ee99e10f-37a7-4014-8d33-e3a2bec0cd3d"
      },
      "outputs": [
        {
          "output_type": "stream",
          "name": "stdout",
          "text": [
            "Overwriting app.py\n"
          ]
        }
      ],
      "source": [
        "%%writefile app.py\n",
        "import pickle\n",
        "import streamlit as st\n",
        "from streamlit_option_menu import option_menu\n",
        "import sklearn.metrics._dist_metrics as dist_metrics\n",
        "from sklearn.metrics import DistanceMetric\n",
        "\n",
        "dist_metrics.EuclideanDistance = DistanceMetric.get_metric('euclidean').__class__\n",
        "\n",
        "# loading the saved models\n",
        "with open('/content/diabetes_model.sav', 'rb') as f:\n",
        "    diabetes_model = pickle.load(f)\n",
        "\n",
        "with open('/content/diabetes_model100.sav', 'rb') as f:\n",
        "    l_model = pickle.load(f)\n",
        "\n",
        "# sidebar for navigation\n",
        "with st.sidebar:\n",
        "    selected = option_menu(\n",
        "        'Diabetes Prediction System',\n",
        "        ['Diabetes Prediction'],\n",
        "        icons=['activity'],\n",
        "        default_index=0\n",
        "    )\n",
        "\n",
        "# Diabetes Prediction Page\n",
        "if selected == 'Diabetes Prediction':\n",
        "    st.title('Diabetes Prediction using ML')\n",
        "\n",
        "    # input fields\n",
        "    col1, col2, col3 = st.columns(3)\n",
        "\n",
        "    with col1:\n",
        "        Pregnancies = st.text_input('Number of Pregnancies')\n",
        "    with col2:\n",
        "        Glucose = st.text_input('Glucose Level')\n",
        "    with col3:\n",
        "        BloodPressure = st.text_input('Blood Pressure value')\n",
        "    with col1:\n",
        "        SkinThickness = st.text_input('Skin Thickness value')\n",
        "    with col2:\n",
        "        Insulin = st.text_input('Insulin Level')\n",
        "    with col3:\n",
        "        BMI = st.text_input('BMI value')\n",
        "    with col1:\n",
        "        DiabetesPedigreeFunction = st.text_input('Diabetes Pedigree Function value')\n",
        "    with col2:\n",
        "        Age = st.text_input('Age of the Person')\n",
        "\n",
        "    diab_diagnosis = ''\n",
        "\n",
        "    # prediction button\n",
        "    if st.button('Diabetes Test Result'):\n",
        "        try:\n",
        "            # convert inputs to float\n",
        "            features = [\n",
        "                float(Pregnancies), float(Glucose), float(BloodPressure),\n",
        "                float(SkinThickness), float(Insulin), float(BMI),\n",
        "                float(DiabetesPedigreeFunction), float(Age)\n",
        "            ]\n",
        "            l_pred = l_model.transform([features])\n",
        "            diab_prediction = diabetes_model.predict(l_pred)\n",
        "\n",
        "            if diab_prediction[0] == 1:\n",
        "                diab_diagnosis = 'The person is diabetic'\n",
        "            else:\n",
        "                diab_diagnosis = 'The person is not diabetic'\n",
        "        except ValueError:\n",
        "            diab_diagnosis = 'Please enter valid numerical values.'\n",
        "\n",
        "    st.success(diab_diagnosis)\n"
      ]
    },
    {
      "cell_type": "code",
      "execution_count": 4,
      "metadata": {
        "colab": {
          "base_uri": "https://localhost:8080/"
        },
        "id": "-vYwmcrosI-v",
        "outputId": "bd3c9f8c-8594-4746-fddb-8c731b56e4b8"
      },
      "outputs": [
        {
          "output_type": "stream",
          "name": "stdout",
          "text": [
            "\u001b[1G\u001b[0K⠙\u001b[1G\u001b[0K⠹\u001b[1G\u001b[0K⠸\u001b[1G\u001b[0K⠼\u001b[1G\u001b[0K⠴\u001b[1G\u001b[0K⠦\u001b[1G\u001b[0K⠧\u001b[1G\u001b[0K⠇\u001b[1G\u001b[0K\n",
            "up to date, audited 23 packages in 1s\n",
            "\u001b[1G\u001b[0K⠏\u001b[1G\u001b[0K\n",
            "\u001b[1G\u001b[0K⠏\u001b[1G\u001b[0K3 packages are looking for funding\n",
            "\u001b[1G\u001b[0K⠏\u001b[1G\u001b[0K  run `npm fund` for details\n",
            "\u001b[1G\u001b[0K⠏\u001b[1G\u001b[0K\n",
            "2 \u001b[31m\u001b[1mhigh\u001b[22m\u001b[39m severity vulnerabilities\n",
            "\n",
            "To address all issues (including breaking changes), run:\n",
            "  npm audit fix --force\n",
            "\n",
            "Run `npm audit` for details.\n",
            "\u001b[1G\u001b[0K⠏\u001b[1G\u001b[0K"
          ]
        }
      ],
      "source": [
        "!npm install localtunnel"
      ]
    },
    {
      "cell_type": "code",
      "execution_count": null,
      "metadata": {
        "colab": {
          "base_uri": "https://localhost:8080/"
        },
        "id": "H40XYn7qsbHP",
        "outputId": "379f7398-e572-4538-939f-002d511be296"
      },
      "outputs": [
        {
          "output_type": "stream",
          "name": "stdout",
          "text": [
            "34.16.166.153\n",
            "\u001b[1G\u001b[0K⠙\u001b[1G\u001b[0Kyour url is: https://four-clocks-swim.loca.lt\n"
          ]
        }
      ],
      "source": [
        "!streamlit run app.py &>/content/logs.txt & npx localtunnel --port 8501 & curl ipv4.icanhazip.com"
      ]
    }
  ],
  "metadata": {
    "colab": {
      "provenance": [],
      "include_colab_link": true
    },
    "kernelspec": {
      "display_name": "Python 3",
      "name": "python3"
    },
    "language_info": {
      "name": "python"
    }
  },
  "nbformat": 4,
  "nbformat_minor": 0
}